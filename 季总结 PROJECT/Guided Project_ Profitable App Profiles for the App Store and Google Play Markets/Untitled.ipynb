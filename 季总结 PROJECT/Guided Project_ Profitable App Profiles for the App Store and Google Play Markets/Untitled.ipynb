{
 "cells": [
  {
   "cell_type": "markdown",
   "metadata": {},
   "source": [
    "## 这个 data analysis 项目的主要目的是通过对 Apple 和 Google 两个应用平台上的应用样本进行分析从而归纳出受欢迎的应用种类进一步制定应用开发方向和相应计划 ##"
   ]
  },
  {
   "cell_type": "code",
   "execution_count": null,
   "metadata": {},
   "outputs": [],
   "source": [
    "file_handle = open('result.txt',mode='w')"
   ]
  },
  {
   "cell_type": "code",
   "execution_count": null,
   "metadata": {},
   "outputs": [],
   "source": [
    "from csv import reader"
   ]
  },
  {
   "cell_type": "markdown",
   "metadata": {},
   "source": [
    "explore_data()函数 可以在数据清洗的时候用于检查调整后数据的是否还存在问题，可以查看数据表格的行数和一些简单的例子"
   ]
  },
  {
   "cell_type": "code",
   "execution_count": null,
   "metadata": {},
   "outputs": [],
   "source": [
    "def explore_data(dataset, start, end, rows_and_columns = False):\n",
    "    dataset_slice = dataset[start:end]\n",
    "    for row in dataset_slice: #打印列表全部内容\n",
    "        print(row)\n",
    "        print('\\n') # 行间空\n",
    "\n",
    "        DS = str(row)\n",
    "        file_handle.write(DS)\n",
    "        file_handle.write('\\n')\n",
    "        \n",
    "    if rows_and_columns:\n",
    "        print('Number of rows:',len(dataset)) # 行数\n",
    "        Row = ['Number of rows:',str(len(dataset))] \n",
    "        file_handle.writelines(Row)\n",
    "        print('Number of columns:',len(dataset[0])) # 列数       \n",
    "        Col = ['Number of columns:',str(len(dataset[0]))]\n",
    "        file_handle.writelines(Col)"
   ]
  },
  {
   "cell_type": "markdown",
   "metadata": {},
   "source": [
    "utf-8 编码是为了在 jupyter 上能够很好的显示，py3 在大部分情况下是不需要这个\n",
    "这一块代码的作用主要是导入数据在程序中打开"
   ]
  },
  {
   "cell_type": "code",
   "execution_count": null,
   "metadata": {},
   "outputs": [],
   "source": [
    "#UTF-8 编码以防万一\n",
    "#_*_ coding:utf-8 _*_\n",
    " \n",
    "# 读取 Applestore dataset\n",
    "\n",
    "open_fileA = open('AppleStore.csv',encoding='UTF-8')\n",
    "read_fileA = reader(open_fileA)\n",
    "ios = list(read_fileA)\n",
    "ios_T_head = ios[0]\n",
    "ios = ios[1:] #去掉首行的每列名称\n",
    "\n",
    "\n",
    "#读取 Googleplay dataset\n",
    "\n",
    "open_fileG = open('googleplaystore.csv',encoding='UTF-8')\n",
    "read_fileG = reader(open_fileG)\n",
    "android = list(read_fileG)\n",
    "android_T_head = android[0]\n",
    "android = android[1:] #去掉各自表格首行的每列名称"
   ]
  },
  {
   "cell_type": "code",
   "execution_count": null,
   "metadata": {},
   "outputs": [],
   "source": [
    "print('##导入数据完成##')\n",
    "print('\\n')"
   ]
  },
  {
   "cell_type": "code",
   "execution_count": null,
   "metadata": {},
   "outputs": [],
   "source": [
    "print('##开始对数据的清理##')\n",
    "file_handle.write('##开始对数据的清理##')\n",
    "file_handle.write('\\n')\n",
    "file_handle.write('\\n')"
   ]
  },
  {
   "cell_type": "markdown",
   "metadata": {},
   "source": [
    "处理错误的数据（定位）"
   ]
  },
  {
   "cell_type": "code",
   "execution_count": null,
   "metadata": {},
   "outputs": [],
   "source": [
    "#得知 Googleplay dataset 中有一行数据是错误的，确认错误位置\n",
    "print('【确认 android 中的错误数据行位置】')\n",
    "file_handle.write('【确认 android 中的错误数据行位置】')\n",
    "file_handle.write('\\n')\n",
    "print(android[10472])\n",
    "print('\\n')\n",
    "A2 = [str(android[10472])]\n",
    "file_handle.writelines(A2)\n",
    "file_handle.write('\\n')\n",
    "file_handle.write('\\n')\n",
    "print(android[10473])\n",
    "print('\\n')\n",
    "A3 = [str(android[10473])]\n",
    "file_handle.writelines(A3)\n",
    "file_handle.write('\\n')\n",
    "file_handle.write('\\n')\n",
    "print(android_T_head)\n",
    "ATH = [str(android_T_head)]\n",
    "file_handle.writelines(ATH)\n",
    "file_handle.write('\\n')\n",
    "file_handle.write('\\n')"
   ]
  },
  {
   "cell_type": "code",
   "execution_count": null,
   "metadata": {},
   "outputs": [],
   "source": [
    "定位后删除数据并且检查是否删除"
   ]
  },
  {
   "cell_type": "code",
   "execution_count": null,
   "metadata": {},
   "outputs": [],
   "source": [
    "#在删除掉错误数据前后确认一下表格行数变化\n",
    "print('【在删除掉错误数据前后确认一下表格行数变化】')\n",
    "file_handle.write('【在删除掉错误数据前后确认一下表格行数变化】')\n",
    "file_handle.write('\\n')\n",
    "print(len(android))\n",
    "LA = str(len(android))\n",
    "file_handle.write(LA)\n",
    "file_handle.write('\\n')\n",
    "file_handle.write('\\n')\n",
    "del android[10472]  #删掉这组有问题的数据\n",
    "print(len(android))\n",
    "print('\\n')\n",
    "LA = str(len(android))\n",
    "file_handle.write(LA)\n",
    "file_handle.write('\\n')\n",
    "file_handle.write('\\n')"
   ]
  },
  {
   "cell_type": "markdown",
   "metadata": {},
   "source": [
    "删除重复的数据"
   ]
  },
  {
   "cell_type": "code",
   "execution_count": null,
   "metadata": {},
   "outputs": [],
   "source": [
    "#除去 android 的重复数据组\n",
    "print('【检查并清除 android 的重复数据组】')\n",
    "file_handle.write('【检查并清除 android 的重复数据组】')\n",
    "file_handle.write('\\n')\n",
    "file_handle.write('\\n')\n",
    "\n",
    "duplicate_apps = []\n",
    "unique_apps = []\n",
    "\n",
    "for app in android:\n",
    "    name = app[0]\n",
    "    if name in unique_apps:\n",
    "        duplicate_apps.append(name)\n",
    "    else:\n",
    "        unique_apps.append(name)\n",
    "        \n",
    "\n",
    "dup_num = len(duplicate_apps)\n",
    "\n",
    "print('number of duplicated apps:',dup_num )\n",
    "print('\\n')\n",
    "NAD = ['number of duplicated apps:',str(dup_num)]\n",
    "file_handle.writelines(NAD)\n",
    "file_handle.write('\\n')\n",
    "print('Expected length:', (len(android) - dup_num))\n",
    "print('\\n')\n",
    "EALD = ['Expected length:',str((len(android) - dup_num))]\n",
    "file_handle.writelines(EALD)\n",
    "file_handle.write('\\n')\n",
    "file_handle.write('\\n')"
   ]
  },
  {
   "cell_type": "code",
   "execution_count": null,
   "metadata": {},
   "outputs": [],
   "source": [
    "#用新建 dictionary 除去重复数据组\n",
    "\n",
    "reviews_max = {}\n",
    "\n",
    "for app in android:\n",
    "    name = app[0]\n",
    "    n_reviews = float(app[3])\n",
    "    \n",
    "    if name in reviews_max and reviews_max[name] < n_reviews:\n",
    "        reviews_max[name] = n_reviews\n",
    "        \n",
    "    elif name not in reviews_max:\n",
    "        reviews_max[name] = n_reviews"
   ]
  },
  {
   "cell_type": "code",
   "execution_count": null,
   "metadata": {},
   "outputs": [],
   "source": [
    "#检查一下 reviews_max 中元素数量是不是正确\n",
    "print('Expected length:', len(android) - 1181)\n",
    "print('\\n')\n",
    "EAL = ['Expected length:',str((len(android) - 1181))]\n",
    "file_handle.writelines(EAL)\n",
    "file_handle.write('\\n')\n",
    "file_handle.write('\\n')\n",
    "print('Actual number:',len(reviews_max))\n",
    "ANL= ['Actual number:',str(len(reviews_max))]\n",
    "file_handle.writelines(ANL)\n",
    "file_handle.write('\\n')\n",
    "file_handle.write('\\n'"
   ]
  },
  {
   "cell_type": "code",
   "execution_count": null,
   "metadata": {},
   "outputs": [],
   "source": [
    "#开始清除重复应用数据\n",
    "android_clean = []\n",
    "already_added = []\n",
    "\n",
    "for app in android:\n",
    "    name = app[0]\n",
    "    n_reviews = float(app[3])#这里利用了数据组的第四列 id 的独一无二来区分相同 name 的重复数据组\n",
    "    \n",
    "    if (reviews_max[name] == n_reviews) and (name not in already_added):\n",
    "        android_clean.append(app)\n",
    "        already_added.append(name)\n",
    "\n",
    "\n",
    "explore_data(android_clean, 0, 2, True) #检验元素样本和数量是否正确\n",
    "file_handle.write('\\n')\n",
    "file_handle.write('\\n')\n"
   ]
  },
  {
   "cell_type": "code",
   "execution_count": null,
   "metadata": {},
   "outputs": [],
   "source": [
    "#除去非英语 app 的数据\n",
    "def is_english(string):\n",
    "    non_ascii = 0\n",
    "    \n",
    "    for character in string:\n",
    "        if ord(character) > 127: #利用英语字母的 ASCII 编码小于127\n",
    "            non_ascii += 1\n",
    "    \n",
    "    if non_ascii > 3:\n",
    "        return False\n",
    "    else:\n",
    "        return True"
   ]
  },
  {
   "cell_type": "code",
   "execution_count": null,
   "metadata": {},
   "outputs": [],
   "source": [
    "#选出英语应用\n",
    "print('【选出英语应用】')\n",
    "file_handle.write('【选出英语应用】')\n",
    "file_handle.write('\\n')\n",
    "\n",
    "android_english = []\n",
    "ios_english = []\n",
    "\n",
    "for app in android_clean:\n",
    "    name = app[0]\n",
    "    if is_english(name):\n",
    "        android_english.append(app)\n",
    "        \n",
    "for app in ios:\n",
    "    name = app[2]#出过一个乌龙，注意序列号\n",
    "    if is_english(name):\n",
    "        ios_english.append(app)\n",
    "\n",
    "print('android English Apps samples and total number:')\n",
    "print('\\n')\n",
    "file_handle.write('android English Apps samples and total number:')\n",
    "file_handle.write('\\n')\n",
    "explore_data(android_english, 0, 2, True)\n",
    "print('\\n')\n",
    "file_handle.write('\\n')\n",
    "print('ios English Apps samples and total number:')\n",
    "print('\\n')\n",
    "file_handle.write('ios English Apps samples and total number:')\n",
    "file_handle.write('\\n')\n",
    "file_handle.write('\\n')\n",
    "explore_data(ios_english, 0, 2, True)"
   ]
  },
  {
   "cell_type": "code",
   "execution_count": null,
   "metadata": {},
   "outputs": [],
   "source": [
    "#选出英语应用里的免费应用\n",
    "print('【选出免费的英语应用】')\n",
    "file_handle.write('【选出免费的英语应用】')\n",
    "file_handle.write('\\n')\n",
    "\n",
    "android_final = []\n",
    "ios_final = []\n",
    "\n",
    "for app in android_english:\n",
    "    price = app[7]\n",
    "    if price == '0':\n",
    "        android_final.append(app)\n",
    "        \n",
    "for app in ios_english:\n",
    "    price = app[5]\n",
    "    if price == '0':\n",
    "        ios_final.append(app)\n",
    "        \n",
    "print('Number of android free English Apps:',len(android_final))\n",
    "NFEA = ['Number of android free English Apps:',str(len(android_final))]\n",
    "file_handle.writelines(NFEA)\n",
    "file_handle.write('\\n')\n",
    "print('Number of ios free English Apps:',len(ios_final)) \n",
    "print('\\n')\n",
    "NFEI = ['Number of ios free English Apps:',str(len(ios_final))]\n",
    "file_handle.writelines(NFEI)\n",
    "file_handle.write('\\n')\n",
    "file_handle.write('\\n')\n",
    "\n",
    "print('##结束对数据的清理##')\n",
    "print('\\n')\n",
    "file_handle.write('##结束对数据的清理##')\n",
    "file_handle.write('\\n')\n",
    "file_handle.write('\\n')"
   ]
  },
  {
   "cell_type": "code",
   "execution_count": null,
   "metadata": {},
   "outputs": [],
   "source": [
    "#\n",
    "print('##开始分析数据##')\n",
    "print('\\n')\n",
    "file_handle.write('##开始分析数据##')\n",
    "file_handle.write('\\n')\n",
    "file_handle.write('\\n')\n",
    "# data analysis of genre  app 热门种类百分比\n",
    "\n",
    "def freq_table(dataset, index):\n",
    "    table = {}\n",
    "    total = 0\n",
    "    \n",
    "    for row in dataset:\n",
    "        total += 1\n",
    "        value = row[index]\n",
    "        if value in table:\n",
    "            table[value] += 1\n",
    "        else:\n",
    "            table[value] = 1\n",
    "    \n",
    "    table_percentages = {}\n",
    "\n",
    "    for genre in table:\n",
    "        percentage = (table[genre] / total) * 100\n",
    "        table_percentages[genre] = percentage \n",
    "    \n",
    "    return table_percentages\n",
    "\n",
    "\n",
    "def display_table(dataset, index):\n",
    "    table = freq_table(dataset, index)\n",
    "    table_display = []\n",
    "    for key in table:\n",
    "        key_val_as_tuple = (table[key], key)\n",
    "        table_display.append(key_val_as_tuple)\n",
    "        \n",
    "    table_sorted = sorted(table_display, reverse = True)\n",
    "    for entry in table_sorted:\n",
    "        print(entry[1], ':', entry[0])\n",
    "        G = [str(entry[1]),':', str(entry[0])]\n",
    "        file_handle.writelines(G)\n",
    "        file_handle.write('\\n')"
   ]
  },
  {
   "cell_type": "code",
   "execution_count": null,
   "metadata": {},
   "outputs": [],
   "source": [
    "#Content Rating 苹果应用内容分级占比\n",
    "print('【Applestore 应用不同分类占比(%)】')\n",
    "file_handle.write('【Applestore 应用不同分类占比(%)】')\n",
    "file_handle.write('\\n')\n",
    "display_table(ios_final, -5)\n",
    "print('\\n')\n",
    "file_handle.write('\\n')"
   ]
  },
  {
   "cell_type": "code",
   "execution_count": null,
   "metadata": {},
   "outputs": [],
   "source": [
    "#category 安卓应用分级占比\n",
    "print('【Googleplay 粗分类别应用占比(%)】')\n",
    "file_handle.write('【Googleplay 粗分类别应用占比(%)】')\n",
    "file_handle.write('\\n')\n",
    "display_table(android_final, 1)\n",
    "print('\\n')\n",
    "file_handle.write('\\n')"
   ]
  },
  {
   "cell_type": "code",
   "execution_count": null,
   "metadata": {},
   "outputs": [],
   "source": [
    "#Genres 安卓应用内容占比\n",
    "print('【Googleplay 细分类别应用各自占比(%)】')\n",
    "file_handle.write('【Googleplay 细分类别应用各自占比(%)】')\n",
    "file_handle.write('\\n')\n",
    "display_table(android_final, -4)\n",
    "print('\\n')\n",
    "file_handle.write('\\n')"
   ]
  },
  {
   "cell_type": "code",
   "execution_count": null,
   "metadata": {},
   "outputs": [],
   "source": [
    "#average number of installs for each ios app genre 苹果各个应用内容的应用的平均下载量\n",
    "print('【Applestore 不同应用分类应用的平均下载量】')\n",
    "file_handle.write('【Applestore 不同应用分类应用的平均下载量】')\n",
    "file_handle.write('\\n')"
   ]
  },
  {
   "cell_type": "code",
   "execution_count": null,
   "metadata": {},
   "outputs": [],
   "source": [
    "genres_ios = freq_table(ios_final, -5)"
   ]
  },
  {
   "cell_type": "code",
   "execution_count": null,
   "metadata": {},
   "outputs": [],
   "source": [
    "for genre in genres_ios:\n",
    "    total = 0\n",
    "    len_genre = 0\n",
    "    for app in ios_final:\n",
    "        genre_app = app[-5]\n",
    "        if genre_app == genre:            \n",
    "            n_ratings = float(app[6])\n",
    "            total += n_ratings\n",
    "            len_genre += 1\n",
    "    avg_n_ratings = total / len_genre\n",
    "    \n",
    "    print(genre, ':', avg_n_ratings)\n",
    "    GIOS = [genre, ':',str(avg_n_ratings)]\n",
    "    file_handle.writelines(GIOS)\n",
    "    file_handle.write('\\n')\n",
    "print('\\n')\n",
    "file_handle.write('\\n')"
   ]
  },
  {
   "cell_type": "code",
   "execution_count": null,
   "metadata": {},
   "outputs": [],
   "source": [
    "#user rating\n",
    "print('【Applestore 导航类各应用的评价人数】')\n",
    "file_handle.write('【Applestore 导航类各应用的评价人数】')\n",
    "file_handle.write('\\n')\n",
    "for app in ios_final:\n",
    "    if app[-5] == 'Navigation':\n",
    "        print(app[2],':', app[6]) # print name and number of ratings\n",
    "        AAA = [str(app[2]),':', str(app[6])]\n",
    "        file_handle.writelines(AAA)\n",
    "        file_handle.write('\\n')\n",
    "print('\\n')\n",
    "file_handle.write('\\n')"
   ]
  },
  {
   "cell_type": "code",
   "execution_count": null,
   "metadata": {},
   "outputs": [],
   "source": [
    "#Reference\n",
    "print('【Applestore 参考类各应用的评价人数】')\n",
    "file_handle.write('【Applestore 参考类各应用的评价人数】')\n",
    "file_handle.write('\\n')\n",
    "for app in ios_final:\n",
    "    if app[-5] == 'Reference':\n",
    "        print(app[2], ':', app[6])\n",
    "        AAA = [str(app[2]),':', str(app[6])]\n",
    "        file_handle.writelines(AAA)\n",
    "        file_handle.write('\\n')\n",
    "print('\\n')\n",
    "file_handle.write('\\n')"
   ]
  },
  {
   "cell_type": "code",
   "execution_count": null,
   "metadata": {},
   "outputs": [],
   "source": [
    "#Most Popular Apps by Genre on Google Play\n",
    "print('【Googleplay 应用下载数量级占比（%）】')\n",
    "file_handle.write('【Googleplay 应用下载数量级占比（%）】')\n",
    "file_handle.write('\\n')\n",
    "display_table(android_final, 5) # the Installs columns\n",
    "print('\\n')\n",
    "file_handle.write('\\n')"
   ]
  },
  {
   "cell_type": "code",
   "execution_count": null,
   "metadata": {},
   "outputs": [],
   "source": [
    "# name + procentage\n",
    "categories_android = freq_table(android_final, 1)\n",
    "print('【Googleplay 不同分类应用平均下载量（%）】')\n",
    "print('\\n')\n",
    "file_handle.write('【Googleplay 不同应用分类应用平均下载量（%）】')\n",
    "file_handle.write('\\n')\n",
    "for category in categories_android:\n",
    "    total = 0\n",
    "    len_category = 0\n",
    "    for app in android_final:\n",
    "        category_app = app[1]\n",
    "        if category_app == category:            \n",
    "            n_installs = app[5]\n",
    "            n_installs = n_installs.replace(',', '')\n",
    "            n_installs = n_installs.replace('+', '')\n",
    "            total += float(n_installs)\n",
    "            len_category += 1\n",
    "    avg_n_installs = total / len_category\n",
    "    print(category, ':', avg_n_installs)\n",
    "\n",
    "    CA = [category, ':', str(avg_n_installs)]\n",
    "    file_handle.writelines(CA)\n",
    "    file_handle.write('\\n')\n",
    "print('\\n')\n",
    "file_handle.write('\\n')"
   ]
  },
  {
   "cell_type": "code",
   "execution_count": null,
   "metadata": {},
   "outputs": [],
   "source": [
    "# \n",
    "print('【Googleplay 通信类应用高下载量软件及其下载数量级】')\n",
    "print('\\n')\n",
    "file_handle.write('【Googleplay 通信类应用高下载量软件及其下载数量级】')\n",
    "file_handle.write('\\n')\n",
    "for app in android_final:\n",
    "    if app[1] == 'COMMUNICATION' and (app[5] == '1,000,000,000+'\n",
    "                                      or app[5] == '500,000,000+'\n",
    "                                      or app[5] == '100,000,000+'):\n",
    "        print(app[0], ':', app[5])\n",
    "        AA = [app[0], ':', str(app[5])]\n",
    "        file_handle.writelines(AA)\n",
    "        file_handle.write('\\n')\n",
    "print('\\n')\n",
    "file_handle.write('\\n')\n"
   ]
  },
  {
   "cell_type": "code",
   "execution_count": null,
   "metadata": {},
   "outputs": [],
   "source": [
    "#这个程序是为了看一下如果去掉那些超过一亿下载量的应用之后样本中Googleplay应用的平均下载量\n",
    "\n",
    "under_100_m = []\n",
    "\n",
    "for app in android_final:\n",
    "    n_installs = app[5]\n",
    "    n_installs = n_installs.replace(',', '')\n",
    "    n_installs = n_installs.replace('+', '')\n",
    "    if (app[1] == 'COMMUNICATION') and (float(n_installs) < 100000000):\n",
    "        under_100_m.append(float(n_installs))\n",
    "\n",
    "print(sum(under_100_m) / len(under_100_m))\n",
    "print('\\n')\n",
    "SL = str(sum(under_100_m) / len(under_100_m))\n",
    "file_handle.write('【如果去掉那些超过一亿下载量的应用之后通信类应用样本中Googleplay应用的平均下载量】：')\n",
    "file_handle.write('\\n')\n",
    "file_handle.write(SL)\n",
    "file_handle.write('\\n')\n",
    "file_handle.write('\\n')"
   ]
  },
  {
   "cell_type": "code",
   "execution_count": null,
   "metadata": {},
   "outputs": [],
   "source": [
    "#\n",
    "\n",
    "print('【Googleplay 参考类软件及其下载数量级】')\n",
    "print('\\n')\n",
    "file_handle.write('【Googleplay 参考类软件及其下载数量级】')\n",
    "file_handle.write('\\n')\n",
    "for app in android_final:\n",
    "    if app[1] == 'BOOKS_AND_REFERENCE':\n",
    "        print(app[0], ':', app[5])\n",
    "        AA = [app[0],':', app[5]]\n",
    "        file_handle.writelines(AA)\n",
    "        file_handle.write('\\n')\n",
    "print('\\n')\n",
    "file_handle.write('\\n')"
   ]
  },
  {
   "cell_type": "code",
   "execution_count": null,
   "metadata": {},
   "outputs": [],
   "source": [
    "#\n",
    "\n",
    "print('【Googleplay 参考类高下载量应用及其下载数量级】')\n",
    "print('\\n')\n",
    "file_handle.write('【Googleplay 参考类高下载量应用及其下载数量级】')\n",
    "file_handle.write('\\n')\n",
    "\n",
    "for app in android_final:\n",
    "    if app[1] == 'BOOKS_AND_REFERENCE' and (app[5] == '1,000,000,000+'\n",
    "                                            or app[5] == '500,000,000+'\n",
    "                                            or app[5] == '100,000,000+'):\n",
    "        print(app[0], ':', app[5])\n",
    "        AA = [app[0],':', app[5]]\n",
    "        file_handle.writelines(AA)\n",
    "        file_handle.write('\\n')\n",
    "print('\\n')\n",
    "file_handle.write('\\n')"
   ]
  },
  {
   "cell_type": "code",
   "execution_count": null,
   "metadata": {},
   "outputs": [],
   "source": [
    "#\n",
    "\n",
    "print('【Googleplay 通信类软件中高下载量软件及其下载数量级】')\n",
    "print('\\n')\n",
    "file_handle.write('【Googleplay 通信类软件中高下载量软件及其下载数量级】')\n",
    "file_handle.write('\\n')\n",
    "\n",
    "for app in android_final:\n",
    "    if app[1] == 'BOOKS_AND_REFERENCE' and (app[5] == '1,000,000+'\n",
    "                                            or app[5] == '5,000,000+'\n",
    "                                            or app[5] == '10,000,000+'\n",
    "                                            or app[5] == '50,000,000+'):\n",
    "        print(app[0], ':', app[5])\n",
    "        AA = [app[0],':', app[5]]\n",
    "        file_handle.writelines(AA)\n",
    "        file_handle.write('\\n')\n",
    "print('\\n')\n",
    "file_handle.write('\\n')\n",
    "\n",
    "print('##结束数据分析##')\n",
    "file_handle.write('##结束数据分析##')\n",
    "print('\\n')"
   ]
  },
  {
   "cell_type": "code",
   "execution_count": null,
   "metadata": {},
   "outputs": [],
   "source": [
    "file_handle.close()\n",
    "\n",
    "print('请在当前文件夹内查看 result.txt 获取分析结果')"
   ]
  }
 ],
 "metadata": {
  "kernelspec": {
   "display_name": "Python 3",
   "language": "python",
   "name": "python3"
  },
  "language_info": {
   "codemirror_mode": {
    "name": "ipython",
    "version": 3
   },
   "file_extension": ".py",
   "mimetype": "text/x-python",
   "name": "python",
   "nbconvert_exporter": "python",
   "pygments_lexer": "ipython3",
   "version": "3.7.3"
  }
 },
 "nbformat": 4,
 "nbformat_minor": 2
}
