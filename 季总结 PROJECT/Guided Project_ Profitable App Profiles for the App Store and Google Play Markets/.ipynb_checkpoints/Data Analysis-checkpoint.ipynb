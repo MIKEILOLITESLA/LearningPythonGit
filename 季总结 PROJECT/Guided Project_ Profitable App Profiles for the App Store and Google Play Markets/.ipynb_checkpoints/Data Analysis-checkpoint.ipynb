{
 "cells": [
  {
   "cell_type": "markdown",
   "metadata": {
    "collapsed": true
   },
   "source": [
    "# the data analysis of the profits in Apple and Google appstores"
   ]
  },
  {
   "cell_type": "code",
   "execution_count": 46,
   "metadata": {},
   "outputs": [],
   "source": [
    "#引入 csv 库的 reader() 函数\n",
    "from csv import reader\n",
    "#引入 re 函数"
   ]
  },
  {
   "cell_type": "code",
   "execution_count": 47,
   "metadata": {},
   "outputs": [],
   "source": [
    "#引入 explore_data() function\n",
    "def explore_data(dataset, start, end, rows_and_columns = False):\n",
    "    dataset_slice = dataset[start:end]\n",
    "    for row in dataset_slice: #打印列表全部内容\n",
    "        print(row)\n",
    "        print('\\n') # 行间空\n",
    "        \n",
    "    if rows_and_columns:\n",
    "        print('Number of rows:',len(dataset)) # 行数\n",
    "        print('Number of columns',len(dataset[0])) # 列数"
   ]
  },
  {
   "cell_type": "code",
   "execution_count": 48,
   "metadata": {},
   "outputs": [
    {
     "ename": "UnicodeDecodeError",
     "evalue": "'utf-8' codec can't decode bytes in position 402-403: invalid continuation byte",
     "output_type": "error",
     "traceback": [
      "\u001b[1;31m---------------------------------------------------------------------------\u001b[0m",
      "\u001b[1;31mUnicodeDecodeError\u001b[0m                        Traceback (most recent call last)",
      "\u001b[1;32m<ipython-input-48-6d5e27272601>\u001b[0m in \u001b[0;36m<module>\u001b[1;34m\u001b[0m\n\u001b[0;32m      9\u001b[0m \u001b[0mopen_fileG\u001b[0m \u001b[1;33m=\u001b[0m \u001b[0mopen\u001b[0m\u001b[1;33m(\u001b[0m\u001b[1;34m'googleplaystore.csv'\u001b[0m\u001b[1;33m,\u001b[0m\u001b[0mencoding\u001b[0m\u001b[1;33m=\u001b[0m\u001b[1;34m'UTF-8'\u001b[0m\u001b[1;33m)\u001b[0m\u001b[1;33m\u001b[0m\u001b[1;33m\u001b[0m\u001b[0m\n\u001b[0;32m     10\u001b[0m \u001b[0mread_fileG\u001b[0m \u001b[1;33m=\u001b[0m \u001b[0mreader\u001b[0m\u001b[1;33m(\u001b[0m\u001b[0mopen_fileG\u001b[0m\u001b[1;33m)\u001b[0m\u001b[1;33m\u001b[0m\u001b[1;33m\u001b[0m\u001b[0m\n\u001b[1;32m---> 11\u001b[1;33m \u001b[0mandroid\u001b[0m \u001b[1;33m=\u001b[0m \u001b[0mlist\u001b[0m\u001b[1;33m(\u001b[0m\u001b[0mread_fileG\u001b[0m\u001b[1;33m)\u001b[0m\u001b[1;33m\u001b[0m\u001b[1;33m\u001b[0m\u001b[0m\n\u001b[0m\u001b[0;32m     12\u001b[0m \u001b[0mandroid_T_head\u001b[0m \u001b[1;33m=\u001b[0m \u001b[0mandroid\u001b[0m\u001b[1;33m[\u001b[0m\u001b[1;36m0\u001b[0m\u001b[1;33m]\u001b[0m\u001b[1;33m\u001b[0m\u001b[1;33m\u001b[0m\u001b[0m\n\u001b[0;32m     13\u001b[0m \u001b[0mandroid\u001b[0m \u001b[1;33m=\u001b[0m \u001b[0mandroid\u001b[0m\u001b[1;33m[\u001b[0m\u001b[1;36m1\u001b[0m\u001b[1;33m:\u001b[0m\u001b[1;33m]\u001b[0m \u001b[1;31m#去掉首行的每列名称\u001b[0m\u001b[1;33m\u001b[0m\u001b[1;33m\u001b[0m\u001b[0m\n",
      "\u001b[1;32m~\\Anaconda3\\lib\\codecs.py\u001b[0m in \u001b[0;36mdecode\u001b[1;34m(self, input, final)\u001b[0m\n\u001b[0;32m    320\u001b[0m         \u001b[1;31m# decode input (taking the buffer into account)\u001b[0m\u001b[1;33m\u001b[0m\u001b[1;33m\u001b[0m\u001b[1;33m\u001b[0m\u001b[0m\n\u001b[0;32m    321\u001b[0m         \u001b[0mdata\u001b[0m \u001b[1;33m=\u001b[0m \u001b[0mself\u001b[0m\u001b[1;33m.\u001b[0m\u001b[0mbuffer\u001b[0m \u001b[1;33m+\u001b[0m \u001b[0minput\u001b[0m\u001b[1;33m\u001b[0m\u001b[1;33m\u001b[0m\u001b[0m\n\u001b[1;32m--> 322\u001b[1;33m         \u001b[1;33m(\u001b[0m\u001b[0mresult\u001b[0m\u001b[1;33m,\u001b[0m \u001b[0mconsumed\u001b[0m\u001b[1;33m)\u001b[0m \u001b[1;33m=\u001b[0m \u001b[0mself\u001b[0m\u001b[1;33m.\u001b[0m\u001b[0m_buffer_decode\u001b[0m\u001b[1;33m(\u001b[0m\u001b[0mdata\u001b[0m\u001b[1;33m,\u001b[0m \u001b[0mself\u001b[0m\u001b[1;33m.\u001b[0m\u001b[0merrors\u001b[0m\u001b[1;33m,\u001b[0m \u001b[0mfinal\u001b[0m\u001b[1;33m)\u001b[0m\u001b[1;33m\u001b[0m\u001b[1;33m\u001b[0m\u001b[0m\n\u001b[0m\u001b[0;32m    323\u001b[0m         \u001b[1;31m# keep undecoded input until the next call\u001b[0m\u001b[1;33m\u001b[0m\u001b[1;33m\u001b[0m\u001b[1;33m\u001b[0m\u001b[0m\n\u001b[0;32m    324\u001b[0m         \u001b[0mself\u001b[0m\u001b[1;33m.\u001b[0m\u001b[0mbuffer\u001b[0m \u001b[1;33m=\u001b[0m \u001b[0mdata\u001b[0m\u001b[1;33m[\u001b[0m\u001b[0mconsumed\u001b[0m\u001b[1;33m:\u001b[0m\u001b[1;33m]\u001b[0m\u001b[1;33m\u001b[0m\u001b[1;33m\u001b[0m\u001b[0m\n",
      "\u001b[1;31mUnicodeDecodeError\u001b[0m: 'utf-8' codec can't decode bytes in position 402-403: invalid continuation byte"
     ]
    }
   ],
   "source": [
    "#Apple dataset\n",
    "open_fileA = open('AppleStore.csv',encoding='UTF-8')\n",
    "read_fileA = reader(open_fileA)\n",
    "ios = list(read_fileA)\n",
    "ios_T_head = ios[0]\n",
    "ios = ios[1:] #去掉首行的每列名称\n",
    "\n",
    "#Google dataset\n",
    "open_fileG = open('googleplaystore.csv',encoding='UTF-8')\n",
    "read_fileG = reader(open_fileG)\n",
    "android = list(read_fileG)\n",
    "android_T_head = android[0]\n",
    "android = android[1:] #去掉首行的每列名称\n",
    "\n"
   ]
  },
  {
   "cell_type": "code",
   "execution_count": 49,
   "metadata": {
    "scrolled": false
   },
   "outputs": [
    {
     "name": "stdout",
     "output_type": "stream",
     "text": [
      "['id', 'track_name', 'size_bytes', 'currency', 'price', 'rating_count_tot', 'rating_count_ver', 'user_rating', 'user_rating_ver', 'ver', 'cont_rating', 'prime_genre', 'sup_devices.num', 'ipadSc_urls.num', 'lang.num', 'vpp_lic']\n",
      "\n",
      "\n",
      "['284882215', 'Facebook', '389879808', 'USD', '0.0', '2974676', '212', '3.5', '3.5', '95.0', '4+', 'Social Networking', '37', '1', '29', '1']\n",
      "\n",
      "\n",
      "['389801252', 'Instagram', '113954816', 'USD', '0.0', '2161558', '1289', '4.5', '4.0', '10.23', '12+', 'Photo & Video', '37', '0', '29', '1']\n",
      "\n",
      "\n",
      "['529479190', 'Clash of Clans', '116476928', 'USD', '0.0', '2130805', '579', '4.5', '4.5', '9.24.12', '9+', 'Games', '38', '5', '18', '1']\n",
      "\n",
      "\n",
      "Number of rows: 7197\n",
      "Number of columns 16\n",
      "None\n"
     ]
    }
   ],
   "source": [
    "# 打印整个 ios 应用列表的前几行和其行数，列数\n",
    "print(ios_T_head)\n",
    "print('\\n')\n",
    "print(explore_data(ios, 0, end = 3, rows_and_columns = True))"
   ]
  },
  {
   "cell_type": "code",
   "execution_count": 50,
   "metadata": {},
   "outputs": [
    {
     "name": "stdout",
     "output_type": "stream",
     "text": [
      "['App', 'Category', 'Rating', 'Reviews', 'Size', 'Installs', 'Type', 'Price', 'Content Rating', 'Genres', 'Last Updated', 'Current Ver', 'Android Ver']\n",
      "\n",
      "\n",
      "['Photo Editor & Candy Camera & Grid & ScrapBook', 'ART_AND_DESIGN', '4.1', '159', '19M', '10,000+', 'Free', '0', 'Everyone', 'Art & Design', 'January 7, 2018', '1.0.0', '4.0.3 and up']\n",
      "\n",
      "\n",
      "['Coloring book moana', 'ART_AND_DESIGN', '3.9', '967', '14M', '500,000+', 'Free', '0', 'Everyone', 'Art & Design;Pretend Play', 'January 15, 2018', '2.0.0', '4.0.3 and up']\n",
      "\n",
      "\n",
      "['U Launcher Lite – FREE Live Cool Themes, Hide Apps', 'ART_AND_DESIGN', '4.7', '87510', '8.7M', '5,000,000+', 'Free', '0', 'Everyone', 'Art & Design', 'August 1, 2018', '1.2.4', '4.0.3 and up']\n",
      "\n",
      "\n",
      "Number of rows: 10841\n",
      "Number of columns 13\n",
      "None\n"
     ]
    }
   ],
   "source": [
    "#打印整个 android 应用列表的前几行和其行数，列数\n",
    "print(android_T_head)\n",
    "print('\\n')\n",
    "print(explore_data(android , 0, 3, True))\n"
   ]
  },
  {
   "cell_type": "code",
   "execution_count": 51,
   "metadata": {},
   "outputs": [
    {
     "name": "stdout",
     "output_type": "stream",
     "text": [
      "['Life Made WI-Fi Touchscreen Photo Frame', '1.9', '19', '3.0M', '1,000+', 'Free', '0', 'Everyone', '', 'February 11, 2018', '1.0.19', '4.0 and up']\n",
      "\n",
      "\n",
      "['Xposed Wi-Fi-Pwd', 'PERSONALIZATION', '3.5', '1042', '404k', '100,000+', 'Free', '0', 'Everyone', 'Personalization', 'August 5, 2014', '3.0.0', '4.0.3 and up']\n",
      "\n",
      "\n",
      "['App', 'Category', 'Rating', 'Reviews', 'Size', 'Installs', 'Type', 'Price', 'Content Rating', 'Genres', 'Last Updated', 'Current Ver', 'Android Ver']\n"
     ]
    }
   ],
   "source": [
    "#data cleaning\n",
    "\n",
    "#有一行数据报错，确认错误\n",
    "print(android[10472])\n",
    "print('\\n')\n",
    "print(android[10471])\n",
    "print('\\n')\n",
    "print(android_T_head)\n",
    "\n",
    "#在删除掉多余的一行前后确认一下行数变化\n",
    "#print(len(android))\n",
    "#del android[10472]  #只使用一次，用完之后注释起来\n",
    "#print(len(android))"
   ]
  },
  {
   "cell_type": "markdown",
   "metadata": {},
   "source": [
    "*数据组可能有重复录入的应用数据，在处理数据时需要找出这些多余的数据并且清理掉"
   ]
  },
  {
   "cell_type": "code",
   "execution_count": 52,
   "metadata": {
    "scrolled": true
   },
   "outputs": [
    {
     "name": "stdout",
     "output_type": "stream",
     "text": [
      "number of duplicated apps: 1181\n",
      "Expected length: 9660\n",
      "Actual number: 9660\n"
     ]
    }
   ],
   "source": [
    "#清除重复行\n",
    "unique_apps = []\n",
    "duplicate_apps = []\n",
    "\n",
    "\n",
    "for app in android:\n",
    "    name = app[0]\n",
    "    if name in unique_apps:\n",
    "        duplicate_apps.append(app)\n",
    "    else:\n",
    "        unique_apps.append(name)\n",
    "        \n",
    "dup_num = len(duplicate_apps)\n",
    "        \n",
    "print('number of duplicated apps:',dup_num )\n",
    "\n",
    "#课程建议不随意删除重复数组而是以录入id为依据，保留录入id最大的那组应用数据，\n",
    "#其他删掉。\n",
    "#个人觉得保留最先被收入 unique_apps 列表的比较好，因为这个同时也节省了代码量\n",
    "\n",
    "print('Expected length:', (len(android) - dup_num))\n",
    "\n",
    "#用新建 dictionary 除去重复应用数据\n",
    "\n",
    "reviews_max = {}\n",
    "\n",
    "for app in android:\n",
    "    name = app[0]\n",
    "    n_reviews = float(app[2])\n",
    "    \n",
    "    if name in reviews_max and n_reviews > reviews_max[name]:\n",
    "        reviews_max[name] = n_reviews\n",
    "    elif name not in reviews_max:\n",
    "        reviews_max[name] = n_reviews\n",
    "        \n",
    "#检查一下 reviews_max 中元素数量是不是对\n",
    "print('Actual number:',len(reviews_max))\n",
    "    "
   ]
  },
  {
   "cell_type": "code",
   "execution_count": 54,
   "metadata": {},
   "outputs": [
    {
     "name": "stdout",
     "output_type": "stream",
     "text": [
      "['Photo Editor & Candy Camera & Grid & ScrapBook', 'ART_AND_DESIGN', '4.1', '159', '19M', '10,000+', 'Free', '0', 'Everyone', 'Art & Design', 'January 7, 2018', '1.0.0', '4.0.3 and up']\n",
      "\n",
      "\n",
      "['Coloring book moana', 'ART_AND_DESIGN', '3.9', '967', '14M', '500,000+', 'Free', '0', 'Everyone', 'Art & Design;Pretend Play', 'January 15, 2018', '2.0.0', '4.0.3 and up']\n",
      "\n",
      "\n",
      "['U Launcher Lite – FREE Live Cool Themes, Hide Apps', 'ART_AND_DESIGN', '4.7', '87510', '8.7M', '5,000,000+', 'Free', '0', 'Everyone', 'Art & Design', 'August 1, 2018', '1.2.4', '4.0.3 and up']\n",
      "\n",
      "\n",
      "Number of rows: 8197\n",
      "Number of columns 13\n"
     ]
    }
   ],
   "source": [
    "#开始清除重复应用数据\n",
    "android_clean = []\n",
    "already_added = []\n",
    "\n",
    "for app in android:\n",
    "    name = app[0]\n",
    "    n_reviews = float(app[2])\n",
    "    \n",
    "    if (reviews_max[name] == n_reviews) and (name not in already_added):\n",
    "        android_clean.append(app)\n",
    "        already_added.append(name)\n",
    "\n",
    "explore_data(android_clean, 0, 3, True) #检验元素数量是否正确"
   ]
  },
  {
   "cell_type": "markdown",
   "metadata": {},
   "source": [
    "*另一个很重要的数据清理，去除不需要的应用数据（非英语语言的 app）"
   ]
  },
  {
   "cell_type": "code",
   "execution_count": 55,
   "metadata": {
    "scrolled": true
   },
   "outputs": [
    {
     "name": "stdout",
     "output_type": "stream",
     "text": [
      "爱奇艺PPS -《欢乐颂2》电视剧热播\n",
      "【脱出ゲーム】絶対に最後までプレイしないで 〜謎解き＆ブロックパズル〜\n",
      "\n",
      "\n",
      "EML UPnP-AV Control Point\n",
      "Sat-Fi\n"
     ]
    }
   ],
   "source": [
    "print(ios[813][1])\n",
    "print(ios[6731][1])\n",
    "print('\\n')\n",
    "print(android_clean[4412][0])\n",
    "print(android_clean[7940][0])"
   ]
  },
  {
   "cell_type": "code",
   "execution_count": 56,
   "metadata": {},
   "outputs": [
    {
     "name": "stdout",
     "output_type": "stream",
     "text": [
      "True\n",
      "False\n",
      "False\n",
      "False\n"
     ]
    }
   ],
   "source": [
    "#根据 ASCII 字符编号区间除去非英语 app\n",
    "def is_english(string):\n",
    "    \n",
    "    for character in string:\n",
    "        if ord(character) > 127:\n",
    "            return False\n",
    "    \n",
    "    return True\n",
    "\n",
    "#检验函数的正确性\n",
    "print(is_english('Instagram'))\n",
    "print(is_english('爱奇艺PPS -《欢乐颂2》电视剧热播'))\n",
    "print(is_english('Docs To Go™ Free Office Suite'))\n",
    "print(is_english('Instachat 😜'))"
   ]
  },
  {
   "cell_type": "code",
   "execution_count": 57,
   "metadata": {},
   "outputs": [],
   "source": [
    "#选出所有非英语 app\n",
    "#def is_english(string):\n",
    "    \n",
    "    #for character in string:\n",
    "        #if ord(character) > 127:\n",
    "            #return True\n",
    "    \n",
    "    #return False\n",
    "\n",
    "#检验\n",
    "#print(is_english('爱奇艺PPS -《欢乐颂2》电视剧热播'))\n",
    "#print(is_english('Docs To Go™ Free Office Suite'))\n",
    "#print(is_english('Instachat 😜'))"
   ]
  },
  {
   "cell_type": "code",
   "execution_count": 59,
   "metadata": {},
   "outputs": [
    {
     "name": "stdout",
     "output_type": "stream",
     "text": [
      "['Photo Editor & Candy Camera & Grid & ScrapBook', 'ART_AND_DESIGN', '4.1', '159', '19M', '10,000+', 'Free', '0', 'Everyone', 'Art & Design', 'January 7, 2018', '1.0.0', '4.0.3 and up']\n",
      "\n",
      "\n",
      "['Coloring book moana', 'ART_AND_DESIGN', '3.9', '967', '14M', '500,000+', 'Free', '0', 'Everyone', 'Art & Design;Pretend Play', 'January 15, 2018', '2.0.0', '4.0.3 and up']\n",
      "\n",
      "\n",
      "['Sketch - Draw & Paint', 'ART_AND_DESIGN', '4.5', '215644', '25M', '50,000,000+', 'Free', '0', 'Teen', 'Art & Design', 'June 8, 2018', 'Varies with device', '4.2 and up']\n",
      "\n",
      "\n",
      "Number of rows: 7752\n",
      "Number of columns 13\n",
      "\n",
      "\n",
      "['284882215', 'Facebook', '389879808', 'USD', '0.0', '2974676', '212', '3.5', '3.5', '95.0', '4+', 'Social Networking', '37', '1', '29', '1']\n",
      "\n",
      "\n",
      "['389801252', 'Instagram', '113954816', 'USD', '0.0', '2161558', '1289', '4.5', '4.0', '10.23', '12+', 'Photo & Video', '37', '0', '29', '1']\n",
      "\n",
      "\n",
      "['529479190', 'Clash of Clans', '116476928', 'USD', '0.0', '2130805', '579', '4.5', '4.5', '9.24.12', '9+', 'Games', '38', '5', '18', '1']\n",
      "\n",
      "\n",
      "Number of rows: 5707\n",
      "Number of columns 16\n"
     ]
    }
   ],
   "source": [
    "#开始单独挑出两个表格中的英语应用\n",
    "android_english = []\n",
    "ios_english = []\n",
    "\n",
    "#android\n",
    "for app in android_clean:\n",
    "    name = app[0]\n",
    "    if is_english(name):\n",
    "        android_english.append(app)\n",
    "\n",
    "#ios\n",
    "for app in ios:\n",
    "    name = app[1]\n",
    "    if is_english(name):\n",
    "        ios_english.append(app)\n",
    "        \n",
    "explore_data(android_english, 0, 3, True)\n",
    "print('\\n')\n",
    "explore_data(ios_english, 0, 3, True)"
   ]
  },
  {
   "cell_type": "code",
   "execution_count": 60,
   "metadata": {},
   "outputs": [
    {
     "name": "stdout",
     "output_type": "stream",
     "text": [
      "7176\n",
      "2922\n"
     ]
    }
   ],
   "source": [
    "#选出付费应用\n",
    "android_final = []\n",
    "ios_final = []\n",
    "\n",
    "for app in android_english:\n",
    "    price = app[7]\n",
    "    if price == '0':\n",
    "        android_final.append(app)\n",
    "        \n",
    "for app in ios_english:\n",
    "    price = app[4]\n",
    "    if price == '0.0':\n",
    "        ios_final.append(app)\n",
    "        \n",
    "print(len(android_final))\n",
    "print(len(ios_final))"
   ]
  },
  {
   "cell_type": "code",
   "execution_count": 61,
   "metadata": {},
   "outputs": [],
   "source": [
    "#\n",
    "def freq_table(dataset, index):\n",
    "    table = {}\n",
    "    total = 0\n",
    "    \n",
    "    for row in dataset:\n",
    "        total += 1\n",
    "        value = row[index]\n",
    "        \n",
    "        if value in table:\n",
    "            table[value] += 1\n",
    "        else:\n",
    "            table[value] = 1\n",
    "    \n",
    "    table_percentages = {}\n",
    "    \n",
    "    for key in table:\n",
    "        percentage = (table[key] / total) * 100\n",
    "        table_percentages[key] = percentage \n",
    "    \n",
    "    return table_percentages\n",
    "\n",
    "\n",
    "def display_table(dataset, index):\n",
    "    table = freq_table(dataset, index)\n",
    "    table_display = []\n",
    "    \n",
    "    for key in table:\n",
    "        key_val_as_tuple = (table[key], key)\n",
    "        table_display.append(key_val_as_tuple)\n",
    "        \n",
    "    table_sorted = sorted(table_display, reverse = True)\n",
    "    \n",
    "    for entry in table_sorted:\n",
    "        print(entry[1], ':', entry[0])"
   ]
  },
  {
   "cell_type": "code",
   "execution_count": 62,
   "metadata": {},
   "outputs": [
    {
     "name": "stdout",
     "output_type": "stream",
     "text": [
      "FAMILY : 19.007803790412485\n",
      "GAME : 10.897435897435898\n",
      "TOOLS : 8.821070234113712\n",
      "FINANCE : 3.8322185061315497\n",
      "PRODUCTIVITY : 3.7764771460423634\n",
      "LIFESTYLE : 3.6649944258639913\n",
      "BUSINESS : 3.38628762541806\n",
      "PHOTOGRAPHY : 3.3444816053511706\n",
      "SPORTS : 3.1354515050167224\n",
      "HEALTH_AND_FITNESS : 3.1354515050167224\n",
      "COMMUNICATION : 3.0936454849498327\n",
      "PERSONALIZATION : 3.0797101449275366\n",
      "MEDICAL : 3.0797101449275366\n",
      "SOCIAL : 2.6755852842809364\n",
      "NEWS_AND_MAGAZINES : 2.61984392419175\n",
      "SHOPPING : 2.341137123745819\n",
      "TRAVEL_AND_LOCAL : 2.3132664437012265\n",
      "BOOKS_AND_REFERENCE : 2.159977703455964\n",
      "VIDEO_PLAYERS : 1.8534002229654405\n",
      "DATING : 1.6722408026755853\n",
      "EDUCATION : 1.4771460423634335\n",
      "MAPS_AND_NAVIGATION : 1.4492753623188406\n",
      "ENTERTAINMENT : 1.2959866220735785\n",
      "FOOD_AND_DRINK : 1.1845039018952062\n",
      "AUTO_AND_VEHICLES : 0.9615384615384616\n",
      "WEATHER : 0.8639910813823858\n",
      "LIBRARIES_AND_DEMO : 0.822185061315496\n",
      "HOUSE_AND_HOME : 0.8082497212931996\n",
      "ART_AND_DESIGN : 0.7803790412486065\n",
      "COMICS : 0.6549609810479375\n",
      "PARENTING : 0.6270903010033445\n",
      "EVENTS : 0.5992196209587514\n",
      "BEAUTY : 0.5852842809364548\n"
     ]
    }
   ],
   "source": [
    "display_table(android_final, 1)"
   ]
  },
  {
   "cell_type": "code",
   "execution_count": 63,
   "metadata": {},
   "outputs": [
    {
     "name": "stdout",
     "output_type": "stream",
     "text": [
      "Tools : 8.807134894091416\n",
      "Entertainment : 6.0479375696767\n",
      "Education : 5.448717948717949\n",
      "Finance : 3.8322185061315497\n",
      "Productivity : 3.7764771460423634\n",
      "Lifestyle : 3.6510590858416943\n",
      "Action : 3.5535117056856182\n",
      "Business : 3.38628762541806\n",
      "Photography : 3.3444816053511706\n",
      "Sports : 3.2190635451505014\n",
      "Health & Fitness : 3.1354515050167224\n",
      "Communication : 3.0936454849498327\n",
      "Personalization : 3.0797101449275366\n",
      "Medical : 3.0797101449275366\n",
      "Social : 2.6755852842809364\n",
      "News & Magazines : 2.61984392419175\n",
      "Simulation : 2.355072463768116\n",
      "Shopping : 2.341137123745819\n",
      "Travel & Local : 2.3132664437012265\n",
      "Books & Reference : 2.159977703455964\n",
      "Arcade : 2.020624303232999\n",
      "Casual : 1.9927536231884055\n",
      "Video Players & Editors : 1.839464882943144\n",
      "Dating : 1.6722408026755853\n",
      "Maps & Navigation : 1.4492753623188406\n",
      "Food & Drink : 1.1845039018952062\n",
      "Racing : 1.1426978818283167\n",
      "Puzzle : 1.100891861761427\n",
      "Role Playing : 1.0590858416945375\n",
      "Strategy : 1.0033444816053512\n",
      "Auto & Vehicles : 0.9615384615384616\n",
      "Weather : 0.8639910813823858\n",
      "Libraries & Demo : 0.822185061315496\n",
      "House & Home : 0.8082497212931996\n",
      "Adventure : 0.7385730211817167\n",
      "Art & Design : 0.6967670011148273\n",
      "Comics : 0.641025641025641\n",
      "Events : 0.5992196209587514\n",
      "Beauty : 0.5852842809364548\n",
      "Parenting : 0.5016722408026756\n",
      "Educational;Education : 0.459866220735786\n",
      "Card : 0.4459308807134894\n",
      "Educational : 0.4180602006688963\n",
      "Casino : 0.4180602006688963\n",
      "Education;Education : 0.4041248606465998\n",
      "Board : 0.4041248606465998\n",
      "Trivia : 0.3762541806020067\n",
      "Word : 0.2787068004459309\n",
      "Music : 0.2229654403567447\n",
      "Casual;Pretend Play : 0.2229654403567447\n",
      "Puzzle;Brain Games : 0.20903010033444816\n",
      "Racing;Action & Adventure : 0.16722408026755853\n",
      "Casual;Brain Games : 0.16722408026755853\n",
      "Entertainment;Music & Video : 0.15328874024526198\n",
      "Casual;Action & Adventure : 0.15328874024526198\n",
      "Arcade;Action & Adventure : 0.11148272017837235\n",
      "Simulation;Action & Adventure : 0.09754738015607581\n",
      "Educational;Pretend Play : 0.09754738015607581\n",
      "Action;Action & Adventure : 0.09754738015607581\n",
      "Entertainment;Brain Games : 0.08361204013377926\n",
      "Art & Design;Creativity : 0.08361204013377926\n",
      "Parenting;Music & Video : 0.06967670011148272\n",
      "Education;Pretend Play : 0.06967670011148272\n",
      "Board;Brain Games : 0.06967670011148272\n",
      "Role Playing;Pretend Play : 0.055741360089186176\n",
      "Educational;Brain Games : 0.055741360089186176\n",
      "Education;Creativity : 0.055741360089186176\n",
      "Casual;Creativity : 0.055741360089186176\n",
      "Role Playing;Action & Adventure : 0.04180602006688963\n",
      "Puzzle;Action & Adventure : 0.04180602006688963\n",
      "Parenting;Education : 0.04180602006688963\n",
      "Educational;Creativity : 0.04180602006688963\n",
      "Education;Music & Video : 0.04180602006688963\n",
      "Education;Action & Adventure : 0.04180602006688963\n",
      "Adventure;Action & Adventure : 0.04180602006688963\n",
      "Video Players & Editors;Music & Video : 0.027870680044593088\n",
      "Sports;Action & Adventure : 0.027870680044593088\n",
      "Simulation;Pretend Play : 0.027870680044593088\n",
      "Puzzle;Creativity : 0.027870680044593088\n",
      "Music;Music & Video : 0.027870680044593088\n",
      "Entertainment;Pretend Play : 0.027870680044593088\n",
      "Entertainment;Creativity : 0.027870680044593088\n",
      "Entertainment;Action & Adventure : 0.027870680044593088\n",
      "Educational;Action & Adventure : 0.027870680044593088\n",
      "Education;Brain Games : 0.027870680044593088\n",
      "Casual;Education : 0.027870680044593088\n",
      "Board;Action & Adventure : 0.027870680044593088\n",
      "Video Players & Editors;Creativity : 0.013935340022296544\n",
      "Tools;Education : 0.013935340022296544\n",
      "Strategy;Education : 0.013935340022296544\n",
      "Strategy;Creativity : 0.013935340022296544\n",
      "Simulation;Education : 0.013935340022296544\n",
      "Role Playing;Brain Games : 0.013935340022296544\n",
      "Racing;Pretend Play : 0.013935340022296544\n",
      "Puzzle;Education : 0.013935340022296544\n",
      "Parenting;Brain Games : 0.013935340022296544\n",
      "Music & Audio;Music & Video : 0.013935340022296544\n",
      "Lifestyle;Pretend Play : 0.013935340022296544\n",
      "Health & Fitness;Education : 0.013935340022296544\n",
      "Health & Fitness;Action & Adventure : 0.013935340022296544\n",
      "Entertainment;Education : 0.013935340022296544\n",
      "Comics;Creativity : 0.013935340022296544\n",
      "Card;Action & Adventure : 0.013935340022296544\n",
      "Books & Reference;Education : 0.013935340022296544\n",
      "Art & Design;Pretend Play : 0.013935340022296544\n",
      "Adventure;Education : 0.013935340022296544\n"
     ]
    }
   ],
   "source": [
    "display_table(android_final, -4)"
   ]
  },
  {
   "cell_type": "code",
   "execution_count": 64,
   "metadata": {},
   "outputs": [
    {
     "name": "stdout",
     "output_type": "stream",
     "text": [
      "Social Networking : 78567.30769230769\n",
      "Photo & Video : 29249.766666666666\n",
      "Games : 21560.75072296125\n",
      "Music : 55396.01587301587\n",
      "Reference : 89562.6\n",
      "Health & Fitness : 19418.620689655174\n",
      "Weather : 48275.57692307692\n",
      "Travel : 34115.57575757576\n",
      "Shopping : 28877.575342465752\n",
      "News : 23382.17948717949\n",
      "Navigation : 125037.25\n",
      "Lifestyle : 17260.53488372093\n",
      "Entertainment : 15006.227272727272\n",
      "Food & Drink : 33333.92307692308\n",
      "Sports : 25791.666666666668\n",
      "Finance : 26038.6875\n",
      "Education : 6103.464285714285\n",
      "Productivity : 22842.22\n",
      "Utilities : 11571.69696969697\n",
      "Book : 16671.0\n",
      "Business : 6839.6\n",
      "Catalogs : 5195.0\n",
      "Medical : 612.0\n"
     ]
    }
   ],
   "source": [
    "genres_ios = freq_table(ios_final, -5)\n",
    "\n",
    "for genre in genres_ios:\n",
    "    total = 0\n",
    "    len_genre = 0\n",
    "    for app in ios_final:\n",
    "        genre_app = app[-5]\n",
    "        if genre_app == genre:            \n",
    "            n_ratings = float(app[5])\n",
    "            total += n_ratings\n",
    "            len_genre += 1\n",
    "    avg_n_ratings = total / len_genre\n",
    "    print(genre, ':', avg_n_ratings)"
   ]
  },
  {
   "cell_type": "code",
   "execution_count": 65,
   "metadata": {},
   "outputs": [
    {
     "name": "stdout",
     "output_type": "stream",
     "text": [
      "Waze - GPS Navigation, Maps & Real-time Traffic : 345046\n",
      "Google Maps - Navigation & Transit : 154911\n",
      "ImmobilienScout24: Real Estate Search in Germany : 187\n",
      "Railway Route Search : 5\n"
     ]
    }
   ],
   "source": [
    "for app in ios_final:\n",
    "    if app[-5] == 'Navigation':\n",
    "        print(app[1], ':', app[5])"
   ]
  },
  {
   "cell_type": "code",
   "execution_count": 66,
   "metadata": {},
   "outputs": [
    {
     "name": "stdout",
     "output_type": "stream",
     "text": [
      "Bible : 985920\n",
      "Dictionary.com Dictionary & Thesaurus : 200047\n",
      "Dictionary.com Dictionary & Thesaurus for iPad : 54175\n",
      "Google Translate : 26786\n",
      "Muslim Pro: Ramadan 2017 Prayer Times, Azan, Quran : 18418\n",
      "New Furniture Mods - Pocket Wiki & Game Tools for Minecraft PC Edition : 17588\n",
      "Merriam-Webster Dictionary : 16849\n",
      "Night Sky : 12122\n",
      "City Maps for Minecraft PE - The Best Maps for Minecraft Pocket Edition (MCPE) : 8535\n",
      "GUNS MODS for Minecraft PC Edition - Mods Tools : 1497\n",
      "WWDC : 762\n",
      "Horror Maps for Minecraft PE - Download The Scariest Maps for Minecraft Pocket Edition (MCPE) Free : 718\n",
      "VPN Express : 14\n",
      "Real Bike Traffic Rider Virtual Reality Glasses : 8\n",
      "Jishokun-Japanese English Dictionary & Translator : 0\n"
     ]
    }
   ],
   "source": [
    "for app in ios_final:\n",
    "    if app[-5] == 'Reference':\n",
    "        print(app[1], ':', app[5])"
   ]
  },
  {
   "cell_type": "code",
   "execution_count": 67,
   "metadata": {},
   "outputs": [
    {
     "name": "stdout",
     "output_type": "stream",
     "text": [
      "1,000,000+ : 18.255295429208473\n",
      "100,000+ : 13.322185061315498\n",
      "10,000,000+ : 12.081939799331105\n",
      "10,000+ : 11.719620958751394\n",
      "5,000,000+ : 7.789855072463768\n",
      "1,000+ : 7.594760312151616\n",
      "500,000+ : 6.507803790412487\n",
      "50,000+ : 5.379041248606466\n",
      "5,000+ : 4.765886287625419\n",
      "100+ : 3.260869565217391\n",
      "50,000,000+ : 2.578037904124861\n",
      "100,000,000+ : 2.494425863991081\n",
      "500+ : 2.2157190635451505\n",
      "10+ : 0.7107023411371237\n",
      "50+ : 0.5852842809364548\n",
      "500,000,000+ : 0.33444816053511706\n",
      "1,000,000,000+ : 0.26477146042363436\n",
      "5+ : 0.1254180602006689\n",
      "1+ : 0.013935340022296544\n"
     ]
    }
   ],
   "source": [
    "display_table(android_final, 5) "
   ]
  },
  {
   "cell_type": "code",
   "execution_count": 68,
   "metadata": {},
   "outputs": [
    {
     "name": "stdout",
     "output_type": "stream",
     "text": [
      "ART_AND_DESIGN : 1950287.5\n",
      "AUTO_AND_VEHICLES : 738837.6811594203\n",
      "BEAUTY : 640861.9047619047\n",
      "BOOKS_AND_REFERENCE : 10094832.290322581\n",
      "BUSINESS : 2611626.995884774\n",
      "COMICS : 899172.340425532\n",
      "COMMUNICATION : 44076042.927927926\n",
      "DATING : 981585.9166666666\n",
      "EDUCATION : 3049056.603773585\n",
      "ENTERTAINMENT : 22563010.752688173\n",
      "EVENTS : 324404.88372093026\n",
      "FINANCE : 1539295.6363636365\n",
      "FOOD_AND_DRINK : 2345385.294117647\n",
      "HEALTH_AND_FITNESS : 4939258.755555555\n",
      "HOUSE_AND_HOME : 1629000.0\n",
      "LIBRARIES_AND_DEMO : 853932.2033898305\n",
      "LIFESTYLE : 1709676.463878327\n",
      "GAME : 16530930.249360614\n",
      "FAMILY : 2919619.9853372434\n",
      "MEDICAL : 168566.407239819\n",
      "SOCIAL : 28514471.223958332\n",
      "SHOPPING : 8221199.047619048\n",
      "PHOTOGRAPHY : 19042144.208333332\n",
      "SPORTS : 4441856.288888888\n",
      "TRAVEL_AND_LOCAL : 16931062.04819277\n",
      "TOOLS : 12620474.21800948\n",
      "PERSONALIZATION : 6322938.50678733\n",
      "PRODUCTIVITY : 20918060.40590406\n",
      "PARENTING : 656800.2222222222\n",
      "WEATHER : 5640080.645161291\n",
      "VIDEO_PLAYERS : 28042978.94736842\n",
      "NEWS_AND_MAGAZINES : 12507325.265957447\n",
      "MAPS_AND_NAVIGATION : 4718235.192307692\n"
     ]
    }
   ],
   "source": [
    "categories_android = freq_table(android_final, 1)\n",
    "\n",
    "for category in categories_android:\n",
    "    total = 0\n",
    "    len_category = 0\n",
    "    for app in android_final:\n",
    "        category_app = app[1]\n",
    "        if category_app == category:            \n",
    "            n_installs = app[5]\n",
    "            n_installs = n_installs.replace(',', '')\n",
    "            n_installs = n_installs.replace('+', '')\n",
    "            total += float(n_installs)\n",
    "            len_category += 1\n",
    "    avg_n_installs = total / len_category\n",
    "    print(category, ':', avg_n_installs)"
   ]
  },
  {
   "cell_type": "code",
   "execution_count": 69,
   "metadata": {},
   "outputs": [
    {
     "name": "stdout",
     "output_type": "stream",
     "text": [
      "WhatsApp Messenger : 1,000,000,000+\n",
      "Google Chrome: Fast & Secure : 1,000,000,000+\n",
      "Messenger Lite: Free Calls & Messages : 100,000,000+\n",
      "Gmail : 1,000,000,000+\n",
      "Hangouts : 1,000,000,000+\n",
      "Viber Messenger : 500,000,000+\n",
      "Firefox Browser fast & private : 100,000,000+\n",
      "imo beta free calls and text : 100,000,000+\n",
      "imo free video calls and chat : 500,000,000+\n",
      "Opera Mini - fast web browser : 100,000,000+\n",
      "Opera Browser: Fast and Secure : 100,000,000+\n",
      "Who : 100,000,000+\n",
      "WeChat : 100,000,000+\n",
      "UC Browser Mini -Tiny Fast Private & Secure : 100,000,000+\n",
      "Android Messages : 100,000,000+\n",
      "Telegram : 100,000,000+\n",
      "Google Duo - High Quality Video Calls : 500,000,000+\n",
      "UC Browser - Fast Download Private & Secure : 500,000,000+\n",
      "Skype - free IM & video calls : 1,000,000,000+\n",
      "GO SMS Pro - Messenger, Free Themes, Emoji : 100,000,000+\n",
      "LINE: Free Calls & Messages : 500,000,000+\n",
      "BBM - Free Calls & Messages : 100,000,000+\n",
      "KakaoTalk: Free Calls & Text : 100,000,000+\n",
      "Truecaller: Caller ID, SMS spam blocking & Dialer : 100,000,000+\n",
      "Kik : 100,000,000+\n"
     ]
    }
   ],
   "source": [
    "for app in android_final:\n",
    "    if app[1] == 'COMMUNICATION' and (app[5] == '1,000,000,000+'\n",
    "                                      or app[5] == '500,000,000+'\n",
    "                                      or app[5] == '100,000,000+'):\n",
    "        print(app[0], ':', app[5])"
   ]
  },
  {
   "cell_type": "code",
   "execution_count": 70,
   "metadata": {},
   "outputs": [
    {
     "data": {
      "text/plain": [
       "3984170.2030456853"
      ]
     },
     "execution_count": 70,
     "metadata": {},
     "output_type": "execute_result"
    }
   ],
   "source": [
    "under_100_m = []\n",
    "\n",
    "for app in android_final:\n",
    "    n_installs = app[5]\n",
    "    n_installs = n_installs.replace(',', '')\n",
    "    n_installs = n_installs.replace('+', '')\n",
    "    if (app[1] == 'COMMUNICATION') and (float(n_installs) < 100000000):\n",
    "        under_100_m.append(float(n_installs))\n",
    "        \n",
    "sum(under_100_m) / len(under_100_m)"
   ]
  },
  {
   "cell_type": "code",
   "execution_count": 71,
   "metadata": {},
   "outputs": [
    {
     "name": "stdout",
     "output_type": "stream",
     "text": [
      "E-Book Read - Read Book for free : 50,000+\n",
      "Download free book with green book : 100,000+\n",
      "Wikipedia : 10,000,000+\n",
      "Amazon Kindle : 100,000,000+\n",
      "Cool Reader : 10,000,000+\n",
      "Dictionary - Merriam-Webster : 10,000,000+\n",
      "NOOK: Read eBooks & Magazines : 10,000,000+\n",
      "Free Panda Radio Music : 100,000+\n",
      "Book store : 1,000,000+\n",
      "FBReader: Favorite Book Reader : 10,000,000+\n",
      "English Grammar Complete Handbook : 500,000+\n",
      "Free Books - Spirit Fanfiction and Stories : 1,000,000+\n",
      "Google Play Books : 1,000,000,000+\n",
      "AlReader -any text book reader : 5,000,000+\n",
      "Offline English Dictionary : 100,000+\n",
      "Oxford Dictionary of English : Free : 10,000,000+\n",
      "Offline: English to Tagalog Dictionary : 500,000+\n",
      "Spanish English Translator : 10,000,000+\n",
      "FamilySearch Tree : 1,000,000+\n",
      "Cloud of Books : 1,000,000+\n",
      "Recipes of Prophetic Medicine for free : 500,000+\n",
      "NOOK App for NOOK Devices : 500,000+\n",
      "Ebook Reader : 5,000,000+\n",
      "Litnet - E-books : 100,000+\n",
      "Read books online : 5,000,000+\n",
      "English to Urdu Dictionary : 500,000+\n",
      "eBoox: book reader fb2 epub zip : 1,000,000+\n",
      "English Persian Dictionary : 500,000+\n",
      "Flybook : 500,000+\n",
      "All Maths Formulas : 1,000,000+\n",
      "Ancestry : 5,000,000+\n",
      "HTC Help : 10,000,000+\n",
      "English translation from Bengali : 100,000+\n",
      "Pdf Book Download - Read Pdf Book : 100,000+\n",
      "Free Book Reader : 100,000+\n",
      "eBoox new: Reader for fb2 epub zip books : 50,000+\n",
      "Only 30 days in English, the guideline is guaranteed : 500,000+\n",
      "Moon+ Reader : 10,000,000+\n",
      "English-Myanmar Dictionary : 1,000,000+\n",
      "Golden Dictionary (EN-AR) : 1,000,000+\n",
      "All Language Translator Free : 1,000,000+\n",
      "Azpen eReader : 500,000+\n",
      "English Dictionary - Offline : 10,000,000+\n",
      "Bible : 100,000,000+\n",
      "C Programs and Reference : 50,000+\n",
      "C Offline Tutorial : 1,000+\n",
      "C Programs Handbook : 50,000+\n",
      "Aab e Hayat Full Novel : 100,000+\n",
      "Aldiko Book Reader : 10,000,000+\n",
      "Google I/O 2018 : 500,000+\n",
      "R Language Reference Guide : 10,000+\n",
      "R Programing Offline Tutorial : 1,000+\n",
      "V Made : 100,000+\n",
      "Dictionary - WordWeb : 5,000,000+\n",
      "Guide (for X-MEN) : 100,000+\n",
      "AC Air condition Troubleshoot,Repair,Maintenance : 5,000+\n",
      "AE Bulletins : 1,000+\n",
      "Ae Allah na Dai (Rasa) : 10,000+\n",
      "50000 Free eBooks & Free AudioBooks : 5,000,000+\n",
      "Ag PhD Field Guide : 10,000+\n",
      "Ag PhD Deficiencies : 10,000+\n",
      "Fertilizer Removal By Crop : 50,000+\n",
      "Al-Quran (Free) : 10,000,000+\n",
      "Al Quran (Tafsir & by Word) : 500,000+\n",
      "Al Quran Indonesia : 10,000,000+\n",
      "Al'Quran Bahasa Indonesia : 10,000,000+\n",
      "Al Quran Al karim : 1,000,000+\n",
      "Al-Muhaffiz : 50,000+\n",
      "Al Quran : EAlim - Translations & MP3 Offline : 5,000,000+\n",
      "Al-Quran 30 Juz free copies : 500,000+\n",
      "Koran Read &MP3 30 Juz Offline : 1,000,000+\n",
      "Hafizi Quran 15 lines per page : 1,000,000+\n",
      "Quran for Android : 10,000,000+\n",
      "Surah Al-Waqiah : 100,000+\n",
      "Hisnul Al Muslim - Hisn Invocations & Adhkaar : 100,000+\n",
      "Satellite AR : 1,000,000+\n",
      "Audiobooks from Audible : 100,000,000+\n",
      "Kinot & Eichah for Tisha B'Av : 10,000+\n",
      "AW Tozer Devotionals - Daily : 5,000+\n",
      "Tozer Devotional -Series 1 : 1,000+\n",
      "The Pursuit of God : 1,000+\n",
      "AY Sing : 5,000+\n",
      "Ay Hasnain k Nana Milad Naat : 10,000+\n",
      "Ay Mohabbat Teri Khatir Novel : 10,000+\n",
      "Arizona Statutes, ARS (AZ Law) : 1,000+\n",
      "Oxford A-Z of English Usage : 1,000,000+\n",
      "BD Fishpedia : 1,000+\n",
      "BD All Sim Offer : 10,000+\n",
      "Youboox - Livres, BD et magazines : 500,000+\n",
      "B&H Kids AR : 10,000+\n",
      "Dictionary.com: Find Definitions for English Words : 10,000,000+\n",
      "Bible KJV : 5,000,000+\n",
      "Borneo Bible, BM Bible : 10,000+\n",
      "BM Box : 1,000+\n",
      "NOOK Audiobooks : 500,000+\n",
      "Browsery by Barnes & Noble : 5,000+\n",
      "bp e-store : 1,000+\n",
      "Brilliant Quotes: Life, Love, Family & Motivation : 1,000,000+\n",
      "BR Ambedkar Biography & Quotes : 10,000+\n",
      "Catholic La Bu Zo Kam : 500+\n",
      "Kristian Hla Bu : 10,000+\n",
      "SA HLA BU : 1,000+\n",
      "CA Laws 2018 (California Laws and Codes) : 5,000+\n",
      "Bootable Methods(USB-CD-DVD) : 10,000+\n",
      "cloudLibrary : 100,000+\n",
      "SDA Collegiate Quarterly : 500+\n",
      "Sabbath School : 100,000+\n",
      "Stats Royale for Clash Royale : 1,000,000+\n",
      "Learn CT Scan Of Head : 5,000+\n",
      "Easy Cv maker 2018 : 10,000+\n",
      "How to Write CV : 100,000+\n",
      "CW Nuclear : 1,000+\n",
      "CZ-Help : 5+\n",
      "Guide for DB Xenoverse : 10,000+\n",
      "Guide for DB Xenoverse 2 : 10,000+\n",
      "DC HSEMA : 5,000+\n",
      "DC Public Library : 1,000+\n",
      "Dictionary : 10,000,000+\n",
      "Fix Error Google Playstore : 1,000+\n",
      "Bilingual Dictionary Audio App : 5,000+\n",
      "DM Screen : 10,000+\n",
      "wikiHow: how to do anything : 1,000,000+\n",
      "Dr. Doug's Tips : 1,000+\n",
      "Bible du Semeur-BDS (French) : 50,000+\n",
      "La citadelle du musulman : 50,000+\n",
      "DV 2019 Entry Guide : 10,000+\n",
      "DV 2019 - EDV Photo & Form : 50,000+\n",
      "DV 2018 Winners Guide : 1,000+\n",
      "EB Annual Meetings : 1,000+\n",
      "EC - AP & Telangana : 5,000+\n",
      "TN Patta Citta & EC : 10,000+\n",
      "AP Stamps and Registration : 10,000+\n",
      "EGW Writings 2 : 100,000+\n",
      "EGW Writings : 1,000,000+\n",
      "Bible with EGW Comments : 100,000+\n",
      "My Little Pony AR Guide : 1,000,000+\n",
      "SDA Sabbath School Quarterly : 500,000+\n",
      "Duaa Ek Ibaadat : 5,000+\n",
      "JW Library : 10,000,000+\n",
      "English Hindi Dictionary : 10,000,000+\n",
      "English to Hindi Dictionary : 5,000,000+\n",
      "EP Research Service : 1,000+\n",
      "Hymnes et Louanges : 100,000+\n",
      "EU Charter : 1,000+\n",
      "EU Data Protection : 1,000+\n",
      "BakaReader EX : 100,000+\n",
      "EZ Quran : 50,000+\n",
      "Florida - Pocket Brainbook : 1,000+\n",
      "Florida Statutes (FL Code) : 1,000+\n",
      "English To Shona Dictionary : 10,000+\n",
      "Golden Dictionary (FR-AR) : 500,000+\n",
      "Fanfic-FR : 5,000+\n",
      "Bulgarian French Dictionary Fr : 10,000+\n",
      "Chemin (fr) : 1,000+\n",
      "The SCP Foundation DB fr nn5n : 1,000+\n"
     ]
    }
   ],
   "source": [
    "for app in android_final:\n",
    "    if app[1] == 'BOOKS_AND_REFERENCE':\n",
    "        print(app[0], ':', app[5])"
   ]
  },
  {
   "cell_type": "code",
   "execution_count": 72,
   "metadata": {},
   "outputs": [
    {
     "name": "stdout",
     "output_type": "stream",
     "text": [
      "Amazon Kindle : 100,000,000+\n",
      "Google Play Books : 1,000,000,000+\n",
      "Bible : 100,000,000+\n",
      "Audiobooks from Audible : 100,000,000+\n"
     ]
    }
   ],
   "source": [
    "for app in android_final:\n",
    "    if app[1] == 'BOOKS_AND_REFERENCE' and (app[5] == '1,000,000,000+'\n",
    "                                            or app[5] == '500,000,000+'\n",
    "                                            or app[5] == '100,000,000+'):\n",
    "        print(app[0], ':', app[5])"
   ]
  },
  {
   "cell_type": "code",
   "execution_count": null,
   "metadata": {
    "collapsed": true
   },
   "outputs": [],
   "source": []
  }
 ],
 "metadata": {
  "kernelspec": {
   "display_name": "Python 3",
   "language": "python",
   "name": "python3"
  },
  "language_info": {
   "codemirror_mode": {
    "name": "ipython",
    "version": 3
   },
   "file_extension": ".py",
   "mimetype": "text/x-python",
   "name": "python",
   "nbconvert_exporter": "python",
   "pygments_lexer": "ipython3",
   "version": "3.7.3"
  }
 },
 "nbformat": 4,
 "nbformat_minor": 2
}
